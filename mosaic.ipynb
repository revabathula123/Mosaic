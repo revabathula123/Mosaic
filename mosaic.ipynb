{
 "cells": [
  {
   "cell_type": "markdown",
   "metadata": {},
   "source": [
    "<h1 style=\"text-align: center;\">\n",
    "<div style=\"color: #DD3403; font-size: 60%\">Data Science DISCOVERY Project #1</div>\n",
    "<span style=\"\">Project #1: Mosaic Project</span>\n",
    "<div style=\"font-size: 60%;\"><a href=\"https://discovery.cs.illinois.edu/guides/project-mosaic/\">https://discovery.cs.illinois.edu/guides/project-mosaic/</a></div>\n",
    "</h1>\n",
    "\n",
    "<hr style=\"color: #DD3403;\">"
   ]
  },
  {
   "cell_type": "markdown",
   "metadata": {},
   "source": [
    "# Section 1: Understanding an Image\n",
    "\n",
    "A computer represents an image as a 2D grid of **pixels** where each pixel is a single color.  Here is a tiny image **zoomed at 50x** that shows the nine pixels:\n",
    "\n",
    "![Color](sample-50x.png)\n",
    "\n",
    "The actual image size of a 9 pixel image is really small (here it is): ![sample image](sample.png).  We will need to use Python to help us process large images!\n",
    "\n",
    "\n",
    "## Section 1.1: Image Coordinate System\n",
    "\n",
    "We can refer to any pixel in the image by it's coordinates -- the `x` and `y` position of each pixel.  The **top-left** pixel is (0, 0) and we increase `x` by going \"right\" and increase `y` by going \"down\".\n",
    "\n",
    "- `(0, 0)` is the BLUE pixel in the top-left corner,\n",
    "- `(1, 0)` is the middle WHITE pixel in the top row (since `x=1` moves to the right one),\n",
    "- `(2, 0)` is the RED pixel in the top-right corner.\n",
    "\n",
    "Moving down, the middle row has a `y` value of `1` fo all its pixels:\n",
    "\n",
    "- `(0, 1)` is the GREEN pixel -- it's \"over zero and down one\",\n",
    "- `(1, 1)` is the BLACK pixel in the center, and\n",
    "- `(2, 1)` is the WHITE pixel in the middle-right of the image.\n",
    "\n",
    "Finally, the last row:\n",
    "\n",
    "- `(0, 2)` is the WHITE pixel in the bottom left,\n",
    "- `(1, 2)` is the ILLINI ORANGE pixel,\n",
    "- `(2, 2)` is the ILLINI BLUE pixel\n",
    "\n",
    "\n",
    "## Section 1.2: The `DISCOVERY` library!\n",
    "\n",
    "In DISCOVERY, we developed a library to help you with image data.  To use it:\n",
    "\n",
    "- You must `import DISCOVERY` (all caps, because DISCOVERY!)\n",
    "- Use `image = DISCOVERY.loadImage(\"sample.png\")` to load the `sample.png` image into `image`\n",
    "\n",
    "Try that out in the cell below:"
   ]
  },
  {
   "cell_type": "code",
   "execution_count": 1,
   "metadata": {},
   "outputs": [],
   "source": [
    "import DISCOVERY\n",
    "image = DISCOVERY.loadImage(\"sample.png\")"
   ]
  },
  {
   "cell_type": "markdown",
   "metadata": {},
   "source": [
    "To access any specific pixel, you need to \"index into\" the `image` with the `x` and `y` coordinate as `image[x][y]`.  For example:\n",
    "\n",
    "- `image[0][0]` accesses the top-left pixel; in the `sample.png` image, it's the BLUE pixel\n",
    "- `image[2][0]` accesses `x=2, y=0`; in the `sample.png` image, it's the RED pixel\n",
    "- ...etc...\n",
    "\n",
    "In the cell below, access the GREEN pixel and store it in the variable `green_pixel`:"
   ]
  },
  {
   "cell_type": "code",
   "execution_count": 26,
   "metadata": {},
   "outputs": [
    {
     "data": {
      "text/plain": [
       "array([  0, 255,   0])"
      ]
     },
     "execution_count": 26,
     "metadata": {},
     "output_type": "execute_result"
    }
   ],
   "source": [
    "green_pixel = image[0][1]\n",
    "green_pixel"
   ]
  },
  {
   "cell_type": "code",
   "execution_count": 27,
   "metadata": {},
   "outputs": [
    {
     "name": "stdout",
     "output_type": "stream",
     "text": [
      "✅ `green_pixel` looks like a pixel!\n",
      "✅ `green_pixel` is a green pixel!\n",
      "🎉 All tests passed! 🎉\n"
     ]
    }
   ],
   "source": [
    "# == TEST CASE for Section 1.2 ==\n",
    "# - Checks to see if `green_pixel` is storing a green pixel\n",
    "DISCOVERY.run_test_case_1b(green_pixel)"
   ]
  },
  {
   "cell_type": "markdown",
   "metadata": {},
   "source": [
    "<hr style=\"color: #DD3403;\">"
   ]
  },
  {
   "cell_type": "markdown",
   "metadata": {},
   "source": [
    "# Section 2: Accessing Color Data\n",
    "\n",
    "Every color visible on a computer screen is made up of the three **primary colors of light** -- red, green, and blue.  Your monitor displays color by varying the intensity of the red light, green light, and blue light emitted for every pixel on your screen.  Since images are primary displayed on computer screens, the **default color space is to represent colors as red, green, and blue**.\n",
    "\n",
    "When you have a pixel, you will always see the three components.  For example, the contents of `green_pixel` is `[0, 255, 0]`:\n",
    "- The first `0` means we have 0 / 255 (0%) **red** light\n",
    "- The second `255` means we have 255 / 255 (100%) **green** light\n",
    "- The final `0` means we have 0 / 255 (0%) **blue** light\n",
    "\n",
    "## Section 2.1: Accessing Illini Orange\n",
    "\n",
    "Using the `image` you loaded in Section 1, load the Illini Orange pixel into `illini_orange_pixel`:"
   ]
  },
  {
   "cell_type": "code",
   "execution_count": 45,
   "metadata": {},
   "outputs": [
    {
     "data": {
      "text/plain": [
       "array([255,  85,  46])"
      ]
     },
     "execution_count": 45,
     "metadata": {},
     "output_type": "execute_result"
    }
   ],
   "source": [
    "illini_orange_pixel = image[1][2]\n",
    "illini_orange_pixel"
   ]
  },
  {
   "cell_type": "markdown",
   "metadata": {},
   "source": [
    "Now we can access the red, green, and blue components by their value in the list.  Once you have a pixel:\n",
    "\n",
    "- `pixel[0]` is the red color,\n",
    "- `pixel[1]` is the green color, and\n",
    "- `pixel[2]` is the blue color.\n",
    "\n",
    "Find the red, green, and blue values of the `illini_orange_pixel`:"
   ]
  },
  {
   "cell_type": "code",
   "execution_count": 54,
   "metadata": {},
   "outputs": [
    {
     "data": {
      "text/plain": [
       "255"
      ]
     },
     "execution_count": 54,
     "metadata": {},
     "output_type": "execute_result"
    }
   ],
   "source": [
    "red = illini_orange_pixel[0]\n",
    "red"
   ]
  },
  {
   "cell_type": "code",
   "execution_count": 61,
   "metadata": {},
   "outputs": [
    {
     "data": {
      "text/plain": [
       "85"
      ]
     },
     "execution_count": 61,
     "metadata": {},
     "output_type": "execute_result"
    }
   ],
   "source": [
    "green = illini_orange_pixel[1]\n",
    "green"
   ]
  },
  {
   "cell_type": "code",
   "execution_count": 67,
   "metadata": {},
   "outputs": [
    {
     "data": {
      "text/plain": [
       "46"
      ]
     },
     "execution_count": 67,
     "metadata": {},
     "output_type": "execute_result"
    }
   ],
   "source": [
    "blue = illini_orange_pixel[2]\n",
    "blue"
   ]
  },
  {
   "cell_type": "markdown",
   "metadata": {},
   "source": [
    "## Section 2.2: Average Pixel Strategy\n",
    "\n",
    "To create the mosaic, we will need to find the **average** pixel color of everyone one of your tile images.  You can do this either of two ways:\n",
    "1. Using Python to find the average of all the individual pixels,\n",
    "2. Creating a DataFrame to store all of the individual pixels and using `pandas` to find the average\n",
    "\n",
    "Since you are an expert in working with DataFrames, we will go for Option #2!  However, you can try #1 if you are up for a challenge!\n",
    "\n",
    "\n",
    "## Section 2.3: Finding the Height and Width\n",
    "\n",
    "All of our images will be much larger than the 3x3 `sample.png` image -- and we don't know the size in advance -- so we need to find the `height` of an image.  Luckily, this is easy:\n",
    "\n",
    "- `len(image)` will tell us how many columns are in the image (since the first index is the `x` value) -- this is our `width`\n",
    "- `len(image[0])` will tell us how many pixels are in the first column (since images are always a rectangle) -- this is our `height`\n",
    "\n",
    "Find the `height` and `width` of your `sample.png` image stored in `image` from Section 1:"
   ]
  },
  {
   "cell_type": "code",
   "execution_count": 72,
   "metadata": {},
   "outputs": [
    {
     "data": {
      "text/plain": [
       "3"
      ]
     },
     "execution_count": 72,
     "metadata": {},
     "output_type": "execute_result"
    }
   ],
   "source": [
    "width = len(image)\n",
    "width"
   ]
  },
  {
   "cell_type": "code",
   "execution_count": 76,
   "metadata": {},
   "outputs": [
    {
     "data": {
      "text/plain": [
       "3"
      ]
     },
     "execution_count": 76,
     "metadata": {},
     "output_type": "execute_result"
    }
   ],
   "source": [
    "height = len(image[0])\n",
    "height"
   ]
  },
  {
   "cell_type": "markdown",
   "metadata": {},
   "source": [
    "## Section 2.4: Converting Pixel Data to a DataFrame - First Row\n",
    "\n",
    "Once you have the height and width, you must **visit every pixel** to add it to a DataFrame.  This is **VERY SIMILAR** to doing a simulation, except that we want to visit different pixels to add them to the DataFrame instead of randomly generating data.\n",
    "\n",
    "To start this, write a simulation except include three key changes:\n",
    "\n",
    "1. Instead of simulating something 10,000 times, run your loop for only however many pixels are in the first row (is that `width` or `height`)?\n",
    "\n",
    "2. Instead of using `for i in ...`, since we're changing the value of `x`, use `for x in ...` to be more descriptive.\n",
    "\n",
    "3. Instead of simulating a random number, we will be storing pixel information. The columns will be as follows:\n",
    "    * the **red pixel value as `r`**,\n",
    "    * the **green pixel value as `g`**,\n",
    "    * the **blue pixel value `b`**,\n",
    "    * the **`x` value**, and\n",
    "    * the **`y` value** (always `0` for now, but we will update it later)  \n",
    "\n",
    "Write your modified simulation code that will store **all of the pixels in the first row** of the image in `image` in a dataframe.\n",
    "- Each row must have a value for `r`, `g`, `b`, `x`, and `y`.\n",
    "- Store your DataFrame in the variable `df`."
   ]
  },
  {
   "cell_type": "code",
   "execution_count": 212,
   "metadata": {},
   "outputs": [
    {
     "data": {
      "text/html": [
       "<div>\n",
       "<style scoped>\n",
       "    .dataframe tbody tr th:only-of-type {\n",
       "        vertical-align: middle;\n",
       "    }\n",
       "\n",
       "    .dataframe tbody tr th {\n",
       "        vertical-align: top;\n",
       "    }\n",
       "\n",
       "    .dataframe thead th {\n",
       "        text-align: right;\n",
       "    }\n",
       "</style>\n",
       "<table border=\"1\" class=\"dataframe\">\n",
       "  <thead>\n",
       "    <tr style=\"text-align: right;\">\n",
       "      <th></th>\n",
       "      <th>r</th>\n",
       "      <th>g</th>\n",
       "      <th>b</th>\n",
       "      <th>x</th>\n",
       "      <th>y</th>\n",
       "    </tr>\n",
       "  </thead>\n",
       "  <tbody>\n",
       "    <tr>\n",
       "      <th>0</th>\n",
       "      <td>0</td>\n",
       "      <td>0</td>\n",
       "      <td>255</td>\n",
       "      <td>0</td>\n",
       "      <td>0</td>\n",
       "    </tr>\n",
       "    <tr>\n",
       "      <th>1</th>\n",
       "      <td>255</td>\n",
       "      <td>255</td>\n",
       "      <td>255</td>\n",
       "      <td>1</td>\n",
       "      <td>0</td>\n",
       "    </tr>\n",
       "    <tr>\n",
       "      <th>2</th>\n",
       "      <td>255</td>\n",
       "      <td>0</td>\n",
       "      <td>0</td>\n",
       "      <td>2</td>\n",
       "      <td>0</td>\n",
       "    </tr>\n",
       "  </tbody>\n",
       "</table>\n",
       "</div>"
      ],
      "text/plain": [
       "     r    g    b  x  y\n",
       "0    0    0  255  0  0\n",
       "1  255  255  255  1  0\n",
       "2  255    0    0  2  0"
      ]
     },
     "execution_count": 212,
     "metadata": {},
     "output_type": "execute_result"
    }
   ],
   "source": [
    "import pandas as pd\n",
    "import random\n",
    "data=[]\n",
    "for x in range(width):\n",
    "    p = image[x][0]\n",
    "    if(x == 0):\n",
    "        r =p[0]\n",
    "        g =p[0]\n",
    "        b =p[2]\n",
    "    else:\n",
    "        r=p[0]\n",
    "        g=p[1]\n",
    "        b=p[2]\n",
    "        \n",
    "    d = ({\"r\":r,\"g\": g, \"b\": b, \"x\":x, \"y\":0})\n",
    "    data.append(d)\n",
    "    \n",
    "\n",
    "df = pd.DataFrame(data)\n",
    "df\n",
    "       "
   ]
  },
  {
   "cell_type": "code",
   "execution_count": 213,
   "metadata": {},
   "outputs": [
    {
     "name": "stdout",
     "output_type": "stream",
     "text": [
      "✅ `df` contains the correct number of observations.\n",
      "✅ `df` contains the expected data!\n",
      "🎉 All tests passed! 🎉\n"
     ]
    }
   ],
   "source": [
    "# == TEST CASE for Section 2.4 ==\n",
    "# - Checks to ensure the DataFrame contains the correct variables and pixel data\n",
    "DISCOVERY.run_test_case_2d(df)"
   ]
  },
  {
   "cell_type": "markdown",
   "metadata": {},
   "source": [
    "## Section 2.5: Converting Pixel Data to a DataFrame - All Rows\n",
    "\n",
    "Awesome -- you've done it for one row, now just do it for all rows!\n",
    "\n",
    "- Your existing code completely works for the first row!\n",
    "- Now, you need to go through every row one-by-one.  You can add a second `for`-loop **inside** of your first `for`-loop for each row. This will visit all of the rows for `x=0`, then all of the rows for `x=1`, and so on...\n",
    "\n",
    "\n",
    "### HINT: Double For-Loop\n",
    "\n",
    "You should have two for-loops right next to each other -- one `x` loop and one `y` loop -- and **ALL** of the functionality for the loop should be inside BOTH of them.  (No code needs to be indented into just one for-loop, every line of code in your for-loop should be double-indented to be inside of the rows **and** columns loops.)\n",
    "\n",
    "\n",
    "### Nerd Out!\n",
    "\n",
    "Write your modified simulation code that will store **all of the pixels** of the image in `image`.\n",
    "- Each row must have a value for `r`, `g`, `b`, `x`, and `y`.\n",
    "- Store your DataFrame in the variable `df`.\n",
    "- (This code will be very similar to Section 2.4 code.)"
   ]
  },
  {
   "cell_type": "code",
   "execution_count": 242,
   "metadata": {},
   "outputs": [],
   "source": [
    "import pandas as pd\n",
    " \n",
    "\n",
    "data=[]\n",
    "for y in range(height):\n",
    "    for x in range(width):\n",
    "        r = image[x][y][0]\n",
    "        g = image[x][y][1]\n",
    "        b = image[x][y][2]\n",
    "        d = ({\"r\":r,\"g\": g, \"b\": b, \"x\":x, \"y\":y})\n",
    "        data.append(d)\n",
    "    \n",
    "\n",
    "df = pd.DataFrame(data)"
   ]
  },
  {
   "cell_type": "code",
   "execution_count": 243,
   "metadata": {},
   "outputs": [
    {
     "data": {
      "text/html": [
       "<div>\n",
       "<style scoped>\n",
       "    .dataframe tbody tr th:only-of-type {\n",
       "        vertical-align: middle;\n",
       "    }\n",
       "\n",
       "    .dataframe tbody tr th {\n",
       "        vertical-align: top;\n",
       "    }\n",
       "\n",
       "    .dataframe thead th {\n",
       "        text-align: right;\n",
       "    }\n",
       "</style>\n",
       "<table border=\"1\" class=\"dataframe\">\n",
       "  <thead>\n",
       "    <tr style=\"text-align: right;\">\n",
       "      <th></th>\n",
       "      <th>r</th>\n",
       "      <th>g</th>\n",
       "      <th>b</th>\n",
       "      <th>x</th>\n",
       "      <th>y</th>\n",
       "    </tr>\n",
       "  </thead>\n",
       "  <tbody>\n",
       "    <tr>\n",
       "      <th>0</th>\n",
       "      <td>0</td>\n",
       "      <td>0</td>\n",
       "      <td>255</td>\n",
       "      <td>0</td>\n",
       "      <td>0</td>\n",
       "    </tr>\n",
       "    <tr>\n",
       "      <th>1</th>\n",
       "      <td>255</td>\n",
       "      <td>255</td>\n",
       "      <td>255</td>\n",
       "      <td>1</td>\n",
       "      <td>0</td>\n",
       "    </tr>\n",
       "    <tr>\n",
       "      <th>2</th>\n",
       "      <td>255</td>\n",
       "      <td>0</td>\n",
       "      <td>0</td>\n",
       "      <td>2</td>\n",
       "      <td>0</td>\n",
       "    </tr>\n",
       "    <tr>\n",
       "      <th>3</th>\n",
       "      <td>0</td>\n",
       "      <td>255</td>\n",
       "      <td>0</td>\n",
       "      <td>0</td>\n",
       "      <td>1</td>\n",
       "    </tr>\n",
       "    <tr>\n",
       "      <th>4</th>\n",
       "      <td>0</td>\n",
       "      <td>0</td>\n",
       "      <td>0</td>\n",
       "      <td>1</td>\n",
       "      <td>1</td>\n",
       "    </tr>\n",
       "    <tr>\n",
       "      <th>5</th>\n",
       "      <td>255</td>\n",
       "      <td>255</td>\n",
       "      <td>255</td>\n",
       "      <td>2</td>\n",
       "      <td>1</td>\n",
       "    </tr>\n",
       "    <tr>\n",
       "      <th>6</th>\n",
       "      <td>255</td>\n",
       "      <td>255</td>\n",
       "      <td>255</td>\n",
       "      <td>0</td>\n",
       "      <td>2</td>\n",
       "    </tr>\n",
       "    <tr>\n",
       "      <th>7</th>\n",
       "      <td>255</td>\n",
       "      <td>85</td>\n",
       "      <td>46</td>\n",
       "      <td>1</td>\n",
       "      <td>2</td>\n",
       "    </tr>\n",
       "    <tr>\n",
       "      <th>8</th>\n",
       "      <td>19</td>\n",
       "      <td>41</td>\n",
       "      <td>75</td>\n",
       "      <td>2</td>\n",
       "      <td>2</td>\n",
       "    </tr>\n",
       "  </tbody>\n",
       "</table>\n",
       "</div>"
      ],
      "text/plain": [
       "     r    g    b  x  y\n",
       "0    0    0  255  0  0\n",
       "1  255  255  255  1  0\n",
       "2  255    0    0  2  0\n",
       "3    0  255    0  0  1\n",
       "4    0    0    0  1  1\n",
       "5  255  255  255  2  1\n",
       "6  255  255  255  0  2\n",
       "7  255   85   46  1  2\n",
       "8   19   41   75  2  2"
      ]
     },
     "execution_count": 243,
     "metadata": {},
     "output_type": "execute_result"
    }
   ],
   "source": [
    "df"
   ]
  },
  {
   "cell_type": "code",
   "execution_count": 244,
   "metadata": {},
   "outputs": [
    {
     "name": "stdout",
     "output_type": "stream",
     "text": [
      "✅ `df` contains the correct number of observations.\n",
      "✅ `df` contains the expected data!\n",
      "🎉 All tests passed! 🎉\n"
     ]
    }
   ],
   "source": [
    "# == TEST CASE for Section 2.5 ==\n",
    "# - Checks to ensure the DataFrame contains the correct variables and pixel data\n",
    "DISCOVERY.run_test_case_2e(df)"
   ]
  },
  {
   "cell_type": "markdown",
   "metadata": {},
   "source": [
    "<hr style=\"color: #DD3403;\">"
   ]
  },
  {
   "cell_type": "markdown",
   "metadata": {},
   "source": [
    "# Section 3: Creating a ImageToDataFrame Function\n",
    "\n",
    "Now, put everything you've done together into a **function**.\n",
    "\n",
    "- The `loadImageToDataFrame` function takes the name of a file as `fileName`.\n",
    "- You must return a DataFrame that contains the image data.\n",
    "\n",
    "*(You've already done this in the previous sections, you just need to put it inside of a function and return the DataFrame.)*"
   ]
  },
  {
   "cell_type": "code",
   "execution_count": 246,
   "metadata": {},
   "outputs": [],
   "source": [
    "def loadImageToDataFrame(fileName):\n",
    "    data=[]\n",
    "    for x in range(height):\n",
    "        for y in range(width):\n",
    "            r = image[x][y][0]\n",
    "            g = image[x][y][1]\n",
    "            b = image[x][y][2]\n",
    "            d = ({\"r\":r,\"g\": g, \"b\": b, \"x\":x, \"y\":y})\n",
    "        data.append(d)\n",
    "        return df\n",
    "    # your code here\n",
    "\n",
    "  \n"
   ]
  },
  {
   "cell_type": "code",
   "execution_count": 247,
   "metadata": {},
   "outputs": [
    {
     "name": "stdout",
     "output_type": "stream",
     "text": [
      "✅ `df` looks good!\n",
      "🎉 All tests passed! 🎉\n"
     ]
    }
   ],
   "source": [
    "# == TEST CASE for Section 3 ==\n",
    "# - Checks to ensure the DataFrame contains the correct variables and pixel data\n",
    "DISCOVERY.run_test_case_3(loadImageToDataFrame)"
   ]
  },
  {
   "cell_type": "markdown",
   "metadata": {},
   "source": [
    "<hr style=\"color: #DD3403;\">"
   ]
  },
  {
   "cell_type": "markdown",
   "metadata": {},
   "source": [
    "# Section 4: Find the Average Color of an Image\n",
    "\n",
    "Given a image (see Section 1 and 2) to remind yourself of the format , find the **overall average color of the image** by finding the average red color, average green color, and average blue color.\n",
    "\n",
    "Write this in the function `findAverageColor` below.  Since this is an image and not a DataFrame, you will need to sum up all the red values, green values, and blue values.  You must return the **average color as a dictionary** with the values:\n",
    "- `avg_r`, for the average red color,\n",
    "- `avg_g`, for the average green color,\n",
    "- `avg_b`, for the average blue color"
   ]
  },
  {
   "cell_type": "code",
   "execution_count": 294,
   "metadata": {},
   "outputs": [
    {
     "data": {
      "text/plain": [
       "{'avg_r': 143.77777777777777,\n",
       " 'avg_g': 127.33333333333333,\n",
       " 'avg_b': 126.77777777777777}"
      ]
     },
     "execution_count": 294,
     "metadata": {},
     "output_type": "execute_result"
    }
   ],
   "source": [
    "from audioop import avg\n",
    "\n",
    "\n",
    "def findAverageImageColor(image):\n",
    "    width = len(image)\n",
    "    height = len(image[0])\n",
    "    r_sum = 0\n",
    "    g_sum = 0\n",
    "    b_sum = 0\n",
    "    for x in range(0, width):\n",
    "        for y in range(0, height):\n",
    "            pixel = image[x][y]\n",
    "            r_sum = r_sum + pixel[0]\n",
    "            g_sum = g_sum + pixel[1]\n",
    "            b_sum = b_sum + pixel[2]\n",
    "\n",
    "    avg_r = r_sum/(width * height)\n",
    "    avg_g = g_sum/(width * height)\n",
    "    avg_b = b_sum/(width * height)\n",
    "    d_two = {'avg_r':avg_r, 'avg_g':avg_g, 'avg_b':avg_b}\n",
    "    return (d_two)\n",
    "\n",
    "findAverageImageColor(image)\n",
    "\n",
    "\n"
   ]
  },
  {
   "cell_type": "code",
   "execution_count": 295,
   "metadata": {},
   "outputs": [
    {
     "name": "stdout",
     "output_type": "stream",
     "text": [
      "✅ Dictionary contain the key `avg_r`.\n",
      "✅ Dictionary contain the key `avg_g`.\n",
      "✅ Dictionary contain the key `avg_b`.\n",
      "✅ Looks good!\n",
      "🎉 All tests passed! 🎉\n"
     ]
    }
   ],
   "source": [
    "# == TEST CASE for Section 4 ==\n",
    "# - Checks to ensure the DataFrame contains the correct variables and pixel data\n",
    "DISCOVERY.run_test_case_4(findAverageImageColor)"
   ]
  },
  {
   "cell_type": "markdown",
   "metadata": {},
   "source": [
    "<hr style=\"color: #DD3403;\">"
   ]
  },
  {
   "cell_type": "markdown",
   "metadata": {},
   "source": [
    "# Section 5: Finding the Average Color of Your Tile Images\n",
    "\n",
    "Before beginning the programming, you should have set up a directory called `tiles` that contains all of your tile images.  If you haven't done that, you need to do that now.\n",
    "\n",
    "To create an image mosaic, we need to find the average pixel color of every one of our tile images so that we can know the best tile image to use when we begin to mosaic our image.  The code below is already complete and does the following:\n",
    "\n",
    "- Goes through each image file in your `tiles` directory,\n",
    "- Finds the average pixel color of each image using your `loadImageToDataFrame` function from Section 3 and your `findAverageColor` function from Section 4,\n",
    "- Finally, creates a new DataFrame `df_tiles` with the average color of each image and returns that DataFrame.\n",
    "\n",
    "*Make sure to run this code -- we'll need it later!*"
   ]
  },
  {
   "cell_type": "code",
   "execution_count": 298,
   "metadata": {},
   "outputs": [],
   "source": [
    "def createTilesDataFrame(path):\n",
    "  data = []\n",
    "\n",
    "  # Loop through all images in the `path` directory:\n",
    "  for tileImageFileName in DISCOVERY.listTileImagesInPath(path):\n",
    "    # Load the image as a DataFrame and find the average color:\n",
    "    image = DISCOVERY.loadImage(tileImageFileName)\n",
    "    averageColor = findAverageImageColor(image)\n",
    "\n",
    "    # Store the fileName and average colors in a dictionary:\n",
    "    d = { \"fileName\": tileImageFileName, \"r\": averageColor[\"avg_r\"], \"g\": averageColor[\"avg_g\"], \"b\": averageColor[\"avg_b\"] }\n",
    "    data.append(d)\n",
    "\n",
    "  # Create the `df_tiles` DataFrame:\n",
    "  df_tiles = pd.DataFrame(data)\n",
    "  return df_tiles"
   ]
  },
  {
   "cell_type": "markdown",
   "metadata": {},
   "source": [
    "<hr style=\"color: #DD3403;\">"
   ]
  },
  {
   "cell_type": "markdown",
   "metadata": {},
   "source": [
    "# Section 6: Splitting Up Your Base Image\n",
    "\n",
    "To mosaic an image, we must split the base image into small regions to be replaced with the tile images.  To accomplish this, we need a function that will **find the average color of a small region of an image**.\n",
    "\n",
    "- In our `sample.png` (from Section 1), we might need the color of just a 2x2 square from the 3x3 image.\n",
    "- In `findAverageImageColor` you already found the average color of the full image.\n",
    "- Now you just need to find the average image color of the subset of the image!\n",
    "\n",
    "\n",
    "Create a function `findAverageImageColorInBox` that finds the average image color of a box region of the image starting at (`x`, `y`) and spanning `width` pixels wide and `height` pixels tall and return the average image color of that box.\n",
    "\n",
    "- Example: `findAverageImageColorInBox(image, x=0, y=0, width=3, height=3)` must return the average colors of the pixels that have (`x=0` to `x=2`) and (`y=0` or `y=2`) since we start at `x=0`/`y=0` and need three pixels.\n",
    "\n",
    "- Example: `findAverageImageColorInBox(image, x=5, y=5, width=5, height=5)` must return the average colors of the pixels that have (`x=5` to `x=9`) and (`y=5` to `y=9`) since we start at `x=5`/`y=5` and need five pixels.\n",
    "\n",
    "- Example: `findAverageImageColorInBox(image, x=5, y=0, width=5, height=5)` must return the average colors of the pixels that have (`x=5` to `x=9`) and (`y=0` to `y=4`) since we start at `x=5` but `y=0`.\n",
    "\n",
    "***HINT**: This can be a small modification on `findAverageImageColor` and there's a lot of ways to approach it!  Just like `findAverageImageColor`, you must return the **average color as a dictionary** with the values:\n",
    "- `avg_r`, for the average red color,\n",
    "- `avg_g`, for the average green color,\n",
    "- `avg_b`, for the average blue color"
   ]
  },
  {
   "cell_type": "code",
   "execution_count": 328,
   "metadata": {},
   "outputs": [
    {
     "data": {
      "text/plain": [
       "{'avg_r': 143.77777777777777,\n",
       " 'avg_g': 127.33333333333333,\n",
       " 'avg_b': 126.77777777777777}"
      ]
     },
     "execution_count": 328,
     "metadata": {},
     "output_type": "execute_result"
    }
   ],
   "source": [
    "def findAverageImageColorInBox(image, box_x, box_y, box_width, box_height):\n",
    "        r_sum = 0\n",
    "        g_sum = 0\n",
    "        b_sum = 0\n",
    "        for y in range(box_y,box_y + box_height):\n",
    "            for x in range(box_x, box_x + box_width):\n",
    "                pixel = (image[x][y])\n",
    "                r = pixel[0]\n",
    "                g = pixel[1]\n",
    "                b = pixel[2]\n",
    "                r_sum = r_sum +r\n",
    "                g_sum = g_sum +g\n",
    "                b_sum = b_sum +b\n",
    "        avg_r = r_sum/(box_width * box_height)\n",
    "        avg_g = g_sum/(box_width * box_height)\n",
    "        avg_b = b_sum/(box_width * box_height)\n",
    "        d_two = {'avg_r':avg_r, 'avg_g':avg_g, 'avg_b':avg_b}\n",
    "        return (d_two)\n",
    "\n",
    "findAverageImageColor(image)\n",
    "\n",
    "    \n",
    "    "
   ]
  },
  {
   "cell_type": "code",
   "execution_count": 329,
   "metadata": {},
   "outputs": [
    {
     "name": "stdout",
     "output_type": "stream",
     "text": [
      "✅ Test case with box_x = 0, box_y = 0, box_width = 2, box_height=2 found returned the correct average color.\n",
      "✅ Test case with box_x = 2, box_y = 0, box_width = 2, box_height=2 found returned the correct average color.\n",
      "✅ Test case with box_x = 2, box_y = 2, box_width = 2, box_height=2 found returned the correct average color.\n",
      "✅ Test case with box_x = 5, box_y = 1, box_width = 2, box_height=2 found returned the correct average color.\n",
      "✅ Test case with box_x = 5, box_y = 1, box_width = 4, box_height=2 found returned the correct average color.\n",
      "✅ Test case with box_x = 5, box_y = 1, box_width = 4, box_height=3 found returned the correct average color.\n",
      "🎉 All tests passed! 🎉\n"
     ]
    }
   ],
   "source": [
    "# == TEST CASE for Section 6 ==\n",
    "# - Checks to ensure the DataFrame contains the correct variables and pixel data\n",
    "DISCOVERY.run_test_case_6(findAverageImageColorInBox)"
   ]
  },
  {
   "cell_type": "markdown",
   "metadata": {},
   "source": [
    "<hr style=\"color: #DD3403;\">"
   ]
  },
  {
   "cell_type": "markdown",
   "metadata": {},
   "source": [
    "# Section 7: Finding the Best Match\n",
    "\n",
    "There's just **one last function**:\n",
    "- You have a DataFrame of all our tile images averages (`df_tiles`),\n",
    "- You can find a subset of a region of your image with your `findImageDataFrameSubset` function, **AND**\n",
    "- You can find `avg_r`, `avg_g`, and `avg_b` for every region of your image with your `findAverageColor` function.\n",
    "\n",
    "Your final function, `findBestTile`, needs to **find the best tile image from `df_tiles` for a given average color**.  You should do this by finding the row in `df_tiles` that has the smallest distance from the average color.\n",
    "\n",
    "## Example \n",
    "\n",
    "Consider three simple tile images:\n",
    "\n",
    "1. A red tile image with a color of (255, 0, 0)\n",
    "2. A green tile image with a color of (0, 255, 0)\n",
    "3. A blue tile image with a color of (0, 0, 255)\n",
    "\n",
    "If your image region has `avg_r` = 10, `avg_g` = 200, and `avg_b` = 20, the distance formula tells us:\n",
    "\n",
    "1. For the red tile (255, 0, 0), the distance away is $d = \\sqrt{(255 - 10)^2 + (0 - 200)^2  + (0 - 20)^2} = 316.8990375$\n",
    "2. For the green tile (0, 255, 0), the distance away is $d = \\sqrt{(0 - 10)^2 + (255 - 200)^2  + (0 - 20)^2} = 59.37171044$\n",
    "3. For the blue tile (0, 0, 255), the distance away is $d = \\sqrt{(0 - 10)^2 + (0 - 200)^2  + (255 - 20)^2} = 308.7474696$\n",
    "\n",
    "We find that the green tile is the closest since it has the minimum distance.  The green tile should be returned.\n",
    "\n",
    "\n",
    "## Hints\n",
    "\n",
    "- If you need to remember the format of `df_tiles`, you can find that in Section 5.\n",
    "- You should add an extra value `df[\"dist\"] = ...` to your DataFrame.\n",
    "- Once you have the distance calculated, how do you return just the smallest row?"
   ]
  },
  {
   "cell_type": "code",
   "execution_count": 346,
   "metadata": {},
   "outputs": [],
   "source": [
    "def findBestTile(df_tiles, r_avg, g_avg, b_avg):\n",
    "\n",
    "  df_tiles[\"dist\"] = ((df_tiles[\"r\"]-r_avg)**2)+ ((df_tiles[\"g\"] - g_avg)**2) + ((df_tiles[\"b\"]-b_avg)**2)\n",
    "  return df_tiles.nsmallest(1, \"dist\")\n",
    "  # your code here\n",
    "\n"
   ]
  },
  {
   "cell_type": "code",
   "execution_count": 347,
   "metadata": {},
   "outputs": [
    {
     "name": "stdout",
     "output_type": "stream",
     "text": [
      "✅ Test case #1 (r=0, g=0, b=0) passed!\n",
      "✅ Test case #1 (r=47, g=49, b=38) passed!\n",
      "✅ Test case #1 (r=54, g=49, b=38) passed!\n",
      "✅ Test case #1 (r=54, g=49, b=52) passed!\n",
      "✅ Test case #1 (r=-100, g=-100, b=-100) passed!\n",
      "🎉 All tests passed! 🎉\n"
     ]
    }
   ],
   "source": [
    "import DISCOVERY\n",
    "# == TEST CASE for Section 7 ==\n",
    "# - Checks to ensure the DataFrame contains the correct variables and pixel data\n",
    "DISCOVERY.run_test_case_7(findBestTile)"
   ]
  },
  {
   "cell_type": "markdown",
   "metadata": {},
   "source": [
    "<hr style=\"color: #DD3403;\">"
   ]
  },
  {
   "cell_type": "markdown",
   "metadata": {},
   "source": [
    "# Section 8: Your Mosaic!\n",
    "\n",
    "Time to put everything together!\n",
    "\n",
    "First, let's define some variables that you can configure to make your mosaic uniquely yours:"
   ]
  },
  {
   "cell_type": "code",
   "execution_count": 380,
   "metadata": {},
   "outputs": [],
   "source": [
    "# What is your base image file name?\n",
    "baseImageFileName = \"base.jpg\"\n",
    "\n",
    "# What folder contains your tile images?\n",
    "# - You can change this so you can have multiple different folders of tile images.\n",
    "tileImageFolder = \"tiles\"\n",
    "\n",
    "# What is the maximum number of tiles should your mosaic use across?\n",
    "# - More tiles across will increase the quality of the final image.\n",
    "# - More tiles across will cause your program to run slower.\n",
    "# ...if you have bugs, start this value slow (it won't look great, but it will make it run fast!)\n",
    "# ...a value around 200 usually looks quite good, but play around with this number!\n",
    "maximumTilesX = 200\n",
    "\n",
    "# What height should your tiles be in your mosaic?\n",
    "# - A larger tile image will result in a larger output file.\n",
    "# - A larger tile image will result in your program running slower.\n",
    "# - A larger tile image will result in more detail in the output file.\n",
    "tileHeight = 32"
   ]
  },
  {
   "cell_type": "markdown",
   "metadata": {},
   "source": [
    "## Now create your mosaic!\n",
    "\n",
    "Run the code to create your mosaic.\n",
    "\n",
    "- This **WILL** take a bit of time (even more time on slower/older laptops).\n",
    "- This will run fastest if your laptop is plugged in (when it's unplugged, your laptop will try and save power and may not run at full speed)."
   ]
  },
  {
   "cell_type": "code",
   "execution_count": 381,
   "metadata": {},
   "outputs": [
    {
     "name": "stdout",
     "output_type": "stream",
     "text": [
      "Creating `df_tiles` from tile images in folder `tiles`...\n",
      "...found 2262 tile images!\n"
     ]
    },
    {
     "data": {
      "text/html": [
       "<div>\n",
       "<style scoped>\n",
       "    .dataframe tbody tr th:only-of-type {\n",
       "        vertical-align: middle;\n",
       "    }\n",
       "\n",
       "    .dataframe tbody tr th {\n",
       "        vertical-align: top;\n",
       "    }\n",
       "\n",
       "    .dataframe thead th {\n",
       "        text-align: right;\n",
       "    }\n",
       "</style>\n",
       "<table border=\"1\" class=\"dataframe\">\n",
       "  <thead>\n",
       "    <tr style=\"text-align: right;\">\n",
       "      <th></th>\n",
       "      <th>fileName</th>\n",
       "      <th>r</th>\n",
       "      <th>g</th>\n",
       "      <th>b</th>\n",
       "    </tr>\n",
       "  </thead>\n",
       "  <tbody>\n",
       "    <tr>\n",
       "      <th>0</th>\n",
       "      <td>tiles/12543290_743782945758728_2050232560_n.png</td>\n",
       "      <td>43.292445</td>\n",
       "      <td>1.663074</td>\n",
       "      <td>2.795307</td>\n",
       "    </tr>\n",
       "    <tr>\n",
       "      <th>1</th>\n",
       "      <td>tiles/929215_352643904900366_812094193_n-9-132...</td>\n",
       "      <td>54.826642</td>\n",
       "      <td>2.079390</td>\n",
       "      <td>-0.076378</td>\n",
       "    </tr>\n",
       "    <tr>\n",
       "      <th>2</th>\n",
       "      <td>tiles/929215_352643904900366_812094193_n-9-108...</td>\n",
       "      <td>54.030931</td>\n",
       "      <td>8.790270</td>\n",
       "      <td>15.761076</td>\n",
       "    </tr>\n",
       "    <tr>\n",
       "      <th>3</th>\n",
       "      <td>tiles/929215_352643904900366_812094193_n-9-105...</td>\n",
       "      <td>37.097532</td>\n",
       "      <td>11.183569</td>\n",
       "      <td>-11.328414</td>\n",
       "    </tr>\n",
       "    <tr>\n",
       "      <th>4</th>\n",
       "      <td>tiles/17267774_227185591020106_415187012684244...</td>\n",
       "      <td>53.316446</td>\n",
       "      <td>5.817246</td>\n",
       "      <td>2.982752</td>\n",
       "    </tr>\n",
       "    <tr>\n",
       "      <th>...</th>\n",
       "      <td>...</td>\n",
       "      <td>...</td>\n",
       "      <td>...</td>\n",
       "      <td>...</td>\n",
       "    </tr>\n",
       "    <tr>\n",
       "      <th>2257</th>\n",
       "      <td>tiles/929215_352643904900366_812094193_n-9-3 c...</td>\n",
       "      <td>72.557100</td>\n",
       "      <td>4.464375</td>\n",
       "      <td>5.182873</td>\n",
       "    </tr>\n",
       "    <tr>\n",
       "      <th>2258</th>\n",
       "      <td>tiles/929215_352643904900366_812094193_n-9-109...</td>\n",
       "      <td>38.709864</td>\n",
       "      <td>-0.707659</td>\n",
       "      <td>7.905712</td>\n",
       "    </tr>\n",
       "    <tr>\n",
       "      <th>2259</th>\n",
       "      <td>tiles/929215_352643904900366_812094193_n-9-86 ...</td>\n",
       "      <td>50.454465</td>\n",
       "      <td>-4.306693</td>\n",
       "      <td>12.239094</td>\n",
       "    </tr>\n",
       "    <tr>\n",
       "      <th>2260</th>\n",
       "      <td>tiles/929215_352643904900366_812094193_n-9-87 ...</td>\n",
       "      <td>85.117707</td>\n",
       "      <td>4.384178</td>\n",
       "      <td>-5.790628</td>\n",
       "    </tr>\n",
       "    <tr>\n",
       "      <th>2261</th>\n",
       "      <td>tiles/929215_352643904900366_812094193_n-9-139...</td>\n",
       "      <td>60.948597</td>\n",
       "      <td>-0.770049</td>\n",
       "      <td>9.559654</td>\n",
       "    </tr>\n",
       "  </tbody>\n",
       "</table>\n",
       "<p>2262 rows × 4 columns</p>\n",
       "</div>"
      ],
      "text/plain": [
       "                                               fileName          r          g  \\\n",
       "0       tiles/12543290_743782945758728_2050232560_n.png  43.292445   1.663074   \n",
       "1     tiles/929215_352643904900366_812094193_n-9-132...  54.826642   2.079390   \n",
       "2     tiles/929215_352643904900366_812094193_n-9-108...  54.030931   8.790270   \n",
       "3     tiles/929215_352643904900366_812094193_n-9-105...  37.097532  11.183569   \n",
       "4     tiles/17267774_227185591020106_415187012684244...  53.316446   5.817246   \n",
       "...                                                 ...        ...        ...   \n",
       "2257  tiles/929215_352643904900366_812094193_n-9-3 c...  72.557100   4.464375   \n",
       "2258  tiles/929215_352643904900366_812094193_n-9-109...  38.709864  -0.707659   \n",
       "2259  tiles/929215_352643904900366_812094193_n-9-86 ...  50.454465  -4.306693   \n",
       "2260  tiles/929215_352643904900366_812094193_n-9-87 ...  85.117707   4.384178   \n",
       "2261  tiles/929215_352643904900366_812094193_n-9-139...  60.948597  -0.770049   \n",
       "\n",
       "              b  \n",
       "0      2.795307  \n",
       "1     -0.076378  \n",
       "2     15.761076  \n",
       "3    -11.328414  \n",
       "4      2.982752  \n",
       "...         ...  \n",
       "2257   5.182873  \n",
       "2258   7.905712  \n",
       "2259  12.239094  \n",
       "2260  -5.790628  \n",
       "2261   9.559654  \n",
       "\n",
       "[2262 rows x 4 columns]"
      ]
     },
     "execution_count": 381,
     "metadata": {},
     "output_type": "execute_result"
    }
   ],
   "source": [
    "print(f\"Creating `df_tiles` from tile images in folder `{tileImageFolder}`...\")\n",
    "df_tiles = createTilesDataFrame(tileImageFolder)\n",
    "print(f\"...found {len(df_tiles)} tile images!\")\n",
    "df_tiles"
   ]
  },
  {
   "cell_type": "code",
   "execution_count": 382,
   "metadata": {},
   "outputs": [
    {
     "name": "stdout",
     "output_type": "stream",
     "text": [
      "Loading your base image `base.jpg`...\n",
      "Finding best replacement image for each tile...\n",
      "  ...progress: 19600 / 19600 (100.00%)\n",
      "\n",
      "🎉 MOSAIC COMPLETE! 🎉\n",
      "- See `mosaic-hq.jpg` to see your HQ moasic! (The file may be HUGE.)\n",
      "- See `mosaic.jpg` to see a moasic best suited for the web (still big, but not HUGE)!\n"
     ]
    }
   ],
   "source": [
    "import sys\n",
    "print(f\"Loading your base image `{baseImageFileName}`...\")\n",
    "baseImage = DISCOVERY.loadImage(baseImageFileName, format= \"Lab\")\n",
    "width = len(baseImage)\n",
    "height = len(baseImage[0])\n",
    "\n",
    "\n",
    "print(f\"Finding best replacement image for each tile...\")\n",
    "# Find the pixelsPerTile to know the pixels used in the base image per mosaic tile:\n",
    "import math\n",
    "\n",
    "pixelsPerTile = int(math.ceil(width / maximumTilesX))\n",
    "width = int(math.floor(width / pixelsPerTile) * pixelsPerTile)\n",
    "height = int(math.floor(height / pixelsPerTile) * pixelsPerTile)\n",
    "tilesX = int(width / pixelsPerTile)\n",
    "tilesY = int(height / pixelsPerTile)\n",
    "\n",
    "# Create the mosaic:\n",
    "from PIL import Image\n",
    "mosaic = Image.new('RGB', (int(tilesX * tileHeight), int(tilesY * tileHeight)))\n",
    "for x in range(0, width, pixelsPerTile):\n",
    "  for y in range(0, height, pixelsPerTile):\n",
    "    avg_color = findAverageImageColorInBox(baseImage, x, y, pixelsPerTile, pixelsPerTile)\n",
    "    replacement = findBestTile(df_tiles, avg_color[\"avg_r\"], avg_color[\"avg_g\"], avg_color[\"avg_b\"])\n",
    "\n",
    "    tile = DISCOVERY.getTileImage(replacement[\"fileName\"].values[0], tileHeight)\n",
    "    mosaic.paste(tile, (int(x / pixelsPerTile) * tileHeight, int(y / pixelsPerTile) * tileHeight))\n",
    "\n",
    "  # Print out a progress message:\n",
    "  curRow = int((x / pixelsPerTile) + 1)\n",
    "  pct = (curRow / tilesX) * 100\n",
    "  sys.stdout.write(f'\\r  ...progress: {curRow * tilesY} / {tilesX * tilesY} ({pct:.2f}%)')\n",
    "\n",
    "# Save it\n",
    "mosaic.save('mosaic-hd.jpg')\n",
    "\n",
    "# Save a smaller one (for posting):\n",
    "import PIL\n",
    "d = max(width, height)\n",
    "factor = d / 4000\n",
    "if factor <= 1: factor = 1\n",
    "\n",
    "small_w = width / factor\n",
    "small_h = height / factor    \n",
    "baseImage = mosaic.resize( (int(small_w), int(small_h)), resample=PIL.Image.LANCZOS )\n",
    "baseImage.save('mosaic-web.jpg')\n",
    "\n",
    "# Print a message:\n",
    "tada = \"\\N{PARTY POPPER}\"\n",
    "print(\"\")\n",
    "print(\"\")\n",
    "print(f\"{tada} MOSAIC COMPLETE! {tada}\")\n",
    "print(\"- See `mosaic-hq.jpg` to see your HQ moasic! (The file may be HUGE.)\")\n",
    "print(\"- See `mosaic.jpg` to see a moasic best suited for the web (still big, but not HUGE)!\")"
   ]
  },
  {
   "cell_type": "markdown",
   "metadata": {},
   "source": [
    "<hr style=\"color: #DD3403;\">"
   ]
  },
  {
   "cell_type": "markdown",
   "metadata": {},
   "source": [
    "# Section 9: Extra Credit\n",
    "\n",
    "So your mosaic is fantastic -- but I think you can make it can be **even MORE fantastic**!  If you have ideas of how to improve your mosaic, use the following cells to re-program a function or otherwise change your logic and then re-create your mosaic.\n",
    "\n",
    "If you're not sure and want some inspiration, visit **#project-extra-credit**.  We'll work together on ideas -- after the first week, we will share some of our ideas.  Be sure to look at the **pinned messages** on the channel for suggestions that we find to be really good ways of improving the mosaic!  (We have a few in mind as we write this, but there's probably even more!  You should aim to have fun!)"
   ]
  },
  {
   "cell_type": "code",
   "execution_count": 383,
   "metadata": {},
   "outputs": [],
   "source": [
    "def createTilesDataFrame(path):\n",
    "  data = []\n",
    "\n",
    "  # Loop through all images in the `path` directory:\n",
    "  for tileImageFileName in DISCOVERY.listTileImagesInPath(path):\n",
    "    # Load the image as a DataFrame and find the average color:\n",
    "    image = DISCOVERY.loadImage(tileImageFileName, format = \"Lab\")\n",
    "    averageColor = findAverageImageColor(image)\n",
    "\n",
    "    # Store the fileName and average colors in a dictionary:\n",
    "    d = { \"fileName\": tileImageFileName, \"r\": averageColor[\"avg_r\"], \"g\": averageColor[\"avg_g\"], \"b\": averageColor[\"avg_b\"] }\n",
    "    data.append(d)\n",
    "\n",
    "  # Create the `df_tiles` DataFrame:\n",
    "  df_tiles = pd.DataFrame(data)\n",
    "  return df_tiles"
   ]
  },
  {
   "cell_type": "markdown",
   "metadata": {},
   "source": [
    "<hr style=\"color: #DD3403;\">"
   ]
  },
  {
   "cell_type": "markdown",
   "metadata": {},
   "source": [
    "# Section 10: Submission\n",
    "\n",
    "We would love you to share your mosaic!  It's not required, but we have discord channel `#project-showcase` just to show off your mosaic -- add yours there and check out others!\n",
    "\n",
    "It is required to turn in your project, which you can do with the usual commands:\n",
    "\n",
    "```\n",
    "git add -A\n",
    "git commit -m \"project1\"\n",
    "git push\n",
    "```"
   ]
  }
 ],
 "metadata": {
  "kernelspec": {
   "display_name": "Python 3.10.6 64-bit",
   "language": "python",
   "name": "python3"
  },
  "language_info": {
   "codemirror_mode": {
    "name": "ipython",
    "version": 3
   },
   "file_extension": ".py",
   "mimetype": "text/x-python",
   "name": "python",
   "nbconvert_exporter": "python",
   "pygments_lexer": "ipython3",
   "version": "3.10.6"
  },
  "vscode": {
   "interpreter": {
    "hash": "369f2c481f4da34e4445cda3fffd2e751bd1c4d706f27375911949ba6bb62e1c"
   }
  }
 },
 "nbformat": 4,
 "nbformat_minor": 2
}
